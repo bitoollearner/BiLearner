{
 "cells": [
  {
   "cell_type": "markdown",
   "id": "39749541",
   "metadata": {},
   "source": [
    "# Fake Dataset Generator"
   ]
  },
  {
   "cell_type": "markdown",
   "id": "a05e13be",
   "metadata": {},
   "source": [
    "### Importing Libraries"
   ]
  },
  {
   "cell_type": "code",
   "execution_count": 7,
   "id": "9ebae12a",
   "metadata": {},
   "outputs": [],
   "source": [
    "import csv\n",
    "import random\n",
    "from faker import Faker\n",
    "import pandas as pd\n",
    "from datetime import timedelta, datetime\n",
    "import random"
   ]
  },
  {
   "cell_type": "markdown",
   "id": "59cca2a5",
   "metadata": {},
   "source": [
    "### Initialize Faker library to generate random data\n",
    "#### Number of records to generate"
   ]
  },
  {
   "cell_type": "code",
   "execution_count": 12,
   "id": "2879879e",
   "metadata": {},
   "outputs": [],
   "source": [
    "# Initialize Faker\n",
    "fake = Faker()\n",
    "num_records = 20000"
   ]
  },
  {
   "cell_type": "markdown",
   "id": "27acc068",
   "metadata": {},
   "source": [
    "### Employee Information Dataset:\n",
    "#### Columns: Employee ID, Name, Department, Job Title, Hire Date, Birth Date, Gender, Salary, Employment Status, Performance Rating, Tenure, Location, Email, Contact Number, etc."
   ]
  },
  {
   "cell_type": "code",
   "execution_count": 4,
   "id": "24fa5037",
   "metadata": {},
   "outputs": [],
   "source": [
    "# Generate and save the data to a CSV file\n",
    "with open(\"employee_information_data.csv\", \"w\", newline=\"\") as csvfile:\n",
    "    writer = csv.writer(csvfile)\n",
    "    writer.writerow([\"Employee ID\", \"First Name\", \"Last Name\", \"Name\", \"Department\", \"Job Title\",\n",
    "                     \"Hire Date\", \"Exit Date\", \"Birth Date\", \"Gender\", \"Salary\", \"Employment Status\",\n",
    "                     \"Performance Rating\", \"Tenure\", \"Location\", \"Email\", \"Contact Number\", \"Supervisor\",\n",
    "                     \"Business Unit\", \"Employee Type\", \"Pay Zone\", \"Employee Classification Type\",\n",
    "                     \"Termination Type\", \"Termination Description\", \"Division\", \"State\",\n",
    "                     \"Job Function Description\", \"Race\", \"Marital\",\"Salary\",\"education_level\",\"TotalLeave\"])\n",
    "\n",
    "    for i in range(1, num_records + 1):\n",
    "        employee_id = 1000 + i\n",
    "        first_name = fake.first_name()\n",
    "        last_name = fake.last_name()\n",
    "        name = f\"{first_name} {last_name}\"\n",
    "        department = random.choice([\"HR\", \"Finance\", \"Marketing\", \"IT\", \"Sales\", \"Operations\"])\n",
    "        job_title = random.choice([\"Manager\", \"Analyst\", \"Specialist\", \"Engineer\", \"Representative\"])\n",
    "        hire_date = fake.date_between(start_date='-5y', end_date='today')\n",
    "        exit_date = fake.date_between(start_date=hire_date, end_date='today') if random.choice([True, False]) else None\n",
    "        birth_date = fake.date_of_birth(minimum_age=22, maximum_age=81).strftime(\"%Y-%m-%d\")        \n",
    "        gender = random.choice([\"Male\", \"Female\"])\n",
    "        salary = random.randint(40000, 100000)\n",
    "        employment_status = random.choice([\"Full-Time\", \"Part-Time\", \"Contract\"])\n",
    "        performance_rating = random.randint(1, 5)\n",
    "        tenure = f\"{random.randint(1, 10)} years\"\n",
    "        location = fake.city()\n",
    "        email = fake.email()\n",
    "        contact_number = fake.phone_number()\n",
    "        supervisor = fake.name()\n",
    "        business_unit = random.choice([\"Sales\", \"Marketing\", \"Operations\", \"IT\", \"Finance\"])\n",
    "        employee_type = random.choice([\"Regular\", \"Contractor\", \"Intern\"])\n",
    "        pay_zone = random.choice([\"Zone A\", \"Zone B\", \"Zone C\"])\n",
    "        employee_classification_type = random.choice([\"Full-Time\", \"Part-Time\", \"Temporary\"])\n",
    "        termination_type = random.choice([\"Voluntary\", \"Involuntary\", \"Retirement\", \"Resignation\"])\n",
    "        termination_description = fake.text(max_nb_chars=50)\n",
    "        division = random.choice([\"North\", \"South\", \"East\", \"West\"])\n",
    "        state = fake.state()\n",
    "        job_function_description = fake.job()\n",
    "        race = random.choice([\"White\", \"Black\", \"Asian\", \"Hispanic\", \"Other\"])\n",
    "        marital = random.choice([\"Married\", \"Single\", \"Divorced\", \"Widowed\"])\n",
    "        Salary = round(random.uniform(30000, 100000), 2)\n",
    "        education_level = random.choice([\"B.Tech\",\"M.Tech\",\"MCA\", \"BCA\", \"PhD\",\"BA\",\"MBA\",\"BBA\",\"B.Com\",\"M.Com\"])\n",
    "        TotalLeave = random.randint(17, 43)\n",
    "\n",
    "        writer.writerow([employee_id, first_name, last_name, name, department, job_title,\n",
    "                         hire_date, exit_date, birth_date, gender, salary, employment_status,\n",
    "                         performance_rating, tenure, location, email, contact_number, supervisor,\n",
    "                         business_unit, employee_type, pay_zone, employee_classification_type,\n",
    "                         termination_type, termination_description, division, state,\n",
    "                         job_function_description, race, marital,Salary,education_level,TotalLeave])\n"
   ]
  },
  {
   "cell_type": "markdown",
   "id": "cb0389d5",
   "metadata": {},
   "source": [
    "### Attendance Dataset:\n",
    "#### Columns: Date, Employee ID, Time In, Time Out, Hours Worked, Absent/Present, Leave Type, Overtime Hours, etc."
   ]
  },
  {
   "cell_type": "code",
   "execution_count": 13,
   "id": "be5f885c",
   "metadata": {},
   "outputs": [],
   "source": [
    "# Generate and save the data to a CSV file\n",
    "with open(\"employee_attendance_data.csv\", \"w\", newline=\"\") as csvfile:\n",
    "    writer = csv.writer(csvfile)\n",
    "    writer.writerow([\"Date\", \"Employee ID\", \"Time In\", \"Time Out\", \"Hours Worked\", \"Absent/Present\",\n",
    "                     \"Leave Type\", \"Overtime Hours\", \"Location\", \"Department\", \"Job Title\", \"Gender\",\n",
    "                     \"Age\", \"Monthly Salary\", \"Experience\", \"Weather\", \"Workload\"])\n",
    "\n",
    "    for i in range(1, num_records + 1):\n",
    "        employee_id = random.randint(1001, 3000)\n",
    "        date = fake.date_between(start_date='-1y', end_date='today')\n",
    "        time_in = datetime.combine(date, fake.time_object()).time()\n",
    "        time_out = datetime.combine(date, fake.time_object()).time()\n",
    "        hours_worked = max((datetime.combine(date, time_out) - datetime.combine(date, time_in)).total_seconds() / 3600, 0)\n",
    "        absent_present = random.choice([\"Absent\", \"Present\"])\n",
    "        leave_type = random.choice([\"Sick Leave\", \"Vacation\", \"Personal Leave\", \"Maternity Leave\", \"Paternity Leave\", \"Other\"]) if absent_present == \"Absent\" else \"\"\n",
    "        overtime_hours = round(random.uniform(0, 2), 2)\n",
    "        location = fake.city()\n",
    "        department = random.choice([\"HR\", \"Finance\", \"Marketing\", \"IT\", \"Sales\", \"Operations\"])\n",
    "        job_title = random.choice([\"Manager\", \"Analyst\", \"Specialist\", \"Engineer\", \"Representative\"])\n",
    "        gender = random.choice([\"Male\", \"Female\"])\n",
    "        age = random.randint(22, 60)\n",
    "        monthly_salary = random.randint(4000, 10000)\n",
    "        experience = f\"{random.randint(1, 20)} years\"\n",
    "        weather = random.choice([\"Sunny\", \"Cloudy\", \"Rainy\", \"Snowy\"])\n",
    "        workload = random.randint(1, 10)\n",
    "\n",
    "        writer.writerow([date, employee_id, time_in.strftime(\"%H:%M\"), time_out.strftime(\"%H:%M\"),\n",
    "                         hours_worked, absent_present, leave_type, overtime_hours,\n",
    "                         location, department, job_title, gender,\n",
    "                         age, monthly_salary, experience, weather, workload])\n"
   ]
  },
  {
   "cell_type": "markdown",
   "id": "3f5ce1ed",
   "metadata": {},
   "source": [
    "### Performance Metrics Dataset:\n",
    "#### Columns: Employee ID, Performance Metric 1, Performance Metric 2, Performance Metric 3, etc."
   ]
  },
  {
   "cell_type": "code",
   "execution_count": 7,
   "id": "c82b2e13",
   "metadata": {},
   "outputs": [],
   "source": [
    "# Generate and save the data to a CSV file\n",
    "with open(\"performance_metrics_data.csv\", \"w\", newline=\"\") as csvfile:\n",
    "    writer = csv.writer(csvfile)\n",
    "    writer.writerow([\"Employee ID\", \"Performance Metric 1\", \"Performance Metric 2\", \"Performance Metric 3\",\n",
    "                     \"Performance Metric 4\", \"Performance Metric 5\", \"Performance Metric 6\"])\n",
    "\n",
    "    for i in range(1, num_records + 1):\n",
    "        employee_id = 1000 + i\n",
    "        metric_1 = random.uniform(0, 100)\n",
    "        metric_2 = random.uniform(0, 100)\n",
    "        metric_3 = random.uniform(0, 100)\n",
    "        metric_4 = random.uniform(0, 100)\n",
    "        metric_5 = random.uniform(0, 100)\n",
    "        metric_6 = random.uniform(0, 100)\n",
    "\n",
    "        writer.writerow([employee_id, metric_1, metric_2, metric_3, metric_4, metric_5, metric_6])\n"
   ]
  },
  {
   "cell_type": "markdown",
   "id": "624d39d5",
   "metadata": {},
   "source": [
    "### Recruitment Dataset:\n",
    "#### Columns: Candidate ID, Name, Applied Date, Interview Date, Interviewer, Interview Status, Offer Status, Offer Acceptance Date, Joining Date, Rejection Reason, etc."
   ]
  },
  {
   "cell_type": "code",
   "execution_count": 3,
   "id": "10202a15",
   "metadata": {},
   "outputs": [],
   "source": [
    "# Generate and save the data to a CSV file\n",
    "with open(\"recruitment_data.csv\", \"w\", newline=\"\") as csvfile:\n",
    "    writer = csv.writer(csvfile)\n",
    "    writer.writerow([\"Applicant ID\", \"First Name\", \"Last Name\", \"Email\", \"Phone Number\", \"Gender\", \"Date of Birth\",\n",
    "                     \"Address\", \"City\", \"State\", \"Zip Code\", \"Country\", \"Education Level\", \"Years of Experience\",\n",
    "                     \"Desired Salary\", \"Job Title\", \"Resume URL\", \"Application Date\", \"Status\",\"Vacancy Type\",\n",
    "                     \"source\",\"Role Type\",\"department\",\"Positon\",\"Recruiter\"])\n",
    "\n",
    "    for i in range(1, num_records + 1):\n",
    "        applicant_id = 1000 + i\n",
    "        first_name = fake.first_name()\n",
    "        last_name = fake.last_name()\n",
    "        email = fake.email()\n",
    "        phone_number = fake.phone_number()\n",
    "        gender = random.choice([\"Male\", \"Female\", \"Other\"])\n",
    "        date_of_birth = fake.date_of_birth(minimum_age=18, maximum_age=60)\n",
    "        address = fake.street_address()\n",
    "        city = fake.city()\n",
    "        state = fake.state_abbr()\n",
    "        zip_code = fake.zipcode()\n",
    "        country = fake.country()\n",
    "        education_level = random.choice([\"High School\", \"Bachelor's Degree\", \"Master's Degree\", \"PhD\"])\n",
    "        years_of_experience = random.randint(0, 20)\n",
    "        desired_salary = round(random.uniform(30000, 100000), 2)\n",
    "        job_title = fake.job()\n",
    "        resume_url = f\"https://example.com/resumes/applicant_{applicant_id}.pdf\"\n",
    "        application_date = fake.date_between(start_date='-3y', end_date='today')\n",
    "        status = random.choice([\"In Review\", \"Interviewing\", \"Offered\", \"Rejected\",\"Hires\"])\n",
    "        vacancy_type = random.choice([\"New\",\"Replacement\"])\n",
    "        source = random.choice([\"Company Website\",\"Naukri\",\"Agency\",\"LinkedIn\",\"Indeed\",\"Referral\",\n",
    "                                \"Walk-In\",\"Social Media\"])        \n",
    "        role_type = random.choice([\"High-Level\",\"Mid-Level\",\"Operational\"])\n",
    "        department = random.choice([\"R&D\",\"HR\",\"Sales\",\"IT\",\"Marketing\",\"Finance\"])\n",
    "        position = random.choice([\"Full-Time\",\"Part-Time\",\"Contract\"])\n",
    "        recruiter = random.choice([\"Keith Curtis\",\"Wendy Gibson\",\"William Smith\",\"Joseph Mendoza\",\"Alexandra Hall\"])\n",
    "\n",
    "        \n",
    "        writer.writerow([applicant_id, first_name, last_name, email, phone_number, gender, date_of_birth,\n",
    "                         address, city, state, zip_code, country, education_level, years_of_experience,\n",
    "                         desired_salary, job_title, resume_url, application_date,vacancy_type,status,\n",
    "                         source,role_type,department,position,recruiter])\n"
   ]
  },
  {
   "cell_type": "markdown",
   "id": "b051b97f",
   "metadata": {},
   "source": [
    "### Employee Engagement Survey Dataset:\n",
    "#### Columns: Employee ID, Survey Date, Engagement Score, Satisfaction Score, Work-Life Balance Score, etc."
   ]
  },
  {
   "cell_type": "code",
   "execution_count": 8,
   "id": "257bb60e",
   "metadata": {},
   "outputs": [],
   "source": [
    "# Generate and save the data to a CSV file\n",
    "with open(\"employee_engagement_survey_data.csv\", \"w\", newline=\"\") as csvfile:\n",
    "    writer = csv.writer(csvfile)\n",
    "    writer.writerow([\"Employee ID\", \"Survey Date\", \"Engagement Score\", \"Satisfaction Score\", \"Work-Life Balance Score\"])\n",
    "\n",
    "    for i in range(1, num_records + 1):\n",
    "        employee_id = 1000 + i\n",
    "        survey_date = fake.date_between(start_date='-1y', end_date='today')\n",
    "        engagement_score = random.randint(1, 5)  # Assuming the engagement score ranges from 1 to 5\n",
    "        satisfaction_score = random.randint(1, 5)  # Assuming the satisfaction score ranges from 1 to 5\n",
    "        work_life_balance_score = random.randint(1, 5)  # Assuming the work-life balance score ranges from 1 to 5\n",
    "\n",
    "        writer.writerow([employee_id, survey_date, engagement_score, satisfaction_score, work_life_balance_score])\n"
   ]
  },
  {
   "cell_type": "markdown",
   "id": "acea684c",
   "metadata": {},
   "source": [
    "### Training and Development Dataset:\n",
    "#### Columns: Employee ID, Training Program Name, Training Date, Training Duration, Training Type, Training Outcome, etc."
   ]
  },
  {
   "cell_type": "code",
   "execution_count": 9,
   "id": "ede1906d",
   "metadata": {},
   "outputs": [],
   "source": [
    "# List of training program names and types\n",
    "training_programs = [\"Technical Skills\", \"Leadership Development\", \"Communication Skills\", \"Customer Service\", \n",
    "                     \"Project Management\",\"Power BI\",\"Development\",\"Work,Health & Safety\",\"Email Management\",\n",
    "                     \"Advanced Presentation Skills\",\"Product Training\",\"Data Visualization Training\",\n",
    "                     \"Conflict Management\"]\n",
    "\n",
    "training_types = [\"Internal\", \"External\"]\n",
    "\n",
    "# List of departments and job titles\n",
    "departments = [\"HR\", \"Finance\", \"Marketing\", \"IT\", \"Sales\", \"Operations\"]\n",
    "job_titles = [\"Manager\", \"Analyst\", \"Specialist\", \"Engineer\", \"Representative\"]\n",
    "\n",
    "# Generate and save the data to a CSV file\n",
    "with open(\"training_and_development_data.csv\", \"w\", newline=\"\") as csvfile:\n",
    "    writer = csv.writer(csvfile)\n",
    "    writer.writerow([\"Employee ID\", \"Training Program Name\", \"Training Date\", \"Training Duration\",\"training_hours\", \n",
    "                     \"Training Type\", \"Training Outcome\",\"Department\", \"Job Title\", \"Supervisor\", \"Location\", \n",
    "                     \"Trainer\", \"Training Cost\"])\n",
    "\n",
    "    for i in range(1, num_records + 1):\n",
    "        employee_id = random.randint(1439,2389)\n",
    "        training_program_name = random.choice(training_programs)\n",
    "        training_date = fake.date_between(start_date='-1y', end_date='today')\n",
    "        training_duration = random.randint(1, 5)  # Assuming the training duration is in days\n",
    "        training_hours = training_duration * 8\n",
    "        training_type = random.choice(training_types)\n",
    "        training_outcome = random.choice([\"Completed\", \"Incomplete\", \"Passed\", \"Failed\"])\n",
    "        department = random.choice(departments)\n",
    "        job_title = random.choice(job_titles)\n",
    "        supervisor = fake.name()\n",
    "        location = fake.city()\n",
    "        trainer = fake.name()\n",
    "        training_cost = round(random.uniform(100, 1000), 2)  # Assuming the training cost ranges from 100 to 1000\n",
    "\n",
    "        writer.writerow([employee_id, training_program_name, training_date, training_duration,training_hours ,\n",
    "                         training_type, training_outcome,department, job_title, supervisor, location, \n",
    "                         trainer, training_cost])\n"
   ]
  },
  {
   "cell_type": "code",
   "execution_count": null,
   "id": "211b203b",
   "metadata": {},
   "outputs": [],
   "source": []
  },
  {
   "cell_type": "code",
   "execution_count": null,
   "id": "76561deb",
   "metadata": {},
   "outputs": [],
   "source": []
  },
  {
   "cell_type": "code",
   "execution_count": null,
   "id": "09d042ee",
   "metadata": {},
   "outputs": [],
   "source": []
  },
  {
   "cell_type": "code",
   "execution_count": null,
   "id": "f81d3f60",
   "metadata": {},
   "outputs": [],
   "source": []
  }
 ],
 "metadata": {
  "kernelspec": {
   "display_name": "Python 3",
   "language": "python",
   "name": "python3"
  },
  "language_info": {
   "codemirror_mode": {
    "name": "ipython",
    "version": 3
   },
   "file_extension": ".py",
   "mimetype": "text/x-python",
   "name": "python",
   "nbconvert_exporter": "python",
   "pygments_lexer": "ipython3",
   "version": "3.9.12"
  }
 },
 "nbformat": 4,
 "nbformat_minor": 5
}
